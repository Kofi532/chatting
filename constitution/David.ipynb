{
 "cells": [
  {
   "cell_type": "code",
   "execution_count": 1,
   "metadata": {},
   "outputs": [
    {
     "ename": "ModuleNotFoundError",
     "evalue": "No module named 'PyPDF2'",
     "output_type": "error",
     "traceback": [
      "\u001b[1;31m---------------------------------------------------------------------------\u001b[0m",
      "\u001b[1;31mModuleNotFoundError\u001b[0m                       Traceback (most recent call last)",
      "Cell \u001b[1;32mIn [1], line 1\u001b[0m\n\u001b[1;32m----> 1\u001b[0m \u001b[39mimport\u001b[39;00m \u001b[39mPyPDF2\u001b[39;00m\n\u001b[0;32m      2\u001b[0m pdfFileObject \u001b[39m=\u001b[39m \u001b[39mopen\u001b[39m(\u001b[39m'\u001b[39m\u001b[39mC:\u001b[39m\u001b[39m\\\\\u001b[39;00m\u001b[39mUsers\u001b[39m\u001b[39m\\\\\u001b[39;00m\u001b[39mKOFI ADUKPO\u001b[39m\u001b[39m\\\\\u001b[39;00m\u001b[39mDownloads\u001b[39m\u001b[39m\\\\\u001b[39;00m\u001b[39macts.pdf\u001b[39m\u001b[39m'\u001b[39m, \u001b[39m'\u001b[39m\u001b[39mrb\u001b[39m\u001b[39m'\u001b[39m)\n\u001b[0;32m      3\u001b[0m pdfReader \u001b[39m=\u001b[39m PyPDF2\u001b[39m.\u001b[39mPdfReader(pdfFileObject)\n",
      "\u001b[1;31mModuleNotFoundError\u001b[0m: No module named 'PyPDF2'"
     ]
    }
   ],
   "source": [
    "import PyPDF2\n",
    "pdfFileObject = open('C:\\\\Users\\\\KOFI ADUKPO\\\\Downloads\\\\acts.pdf', 'rb')\n",
    "pdfReader = PyPDF2.PdfReader(pdfFileObject)\n",
    "count = len(reader.pages)\n",
    "output = []\n",
    "for i in range(count):\n",
    "    page = reader.pages[i] \n",
    "    output.append(page.extract_text())"
   ]
  },
  {
   "cell_type": "code",
   "execution_count": null,
   "metadata": {},
   "outputs": [],
   "source": []
  },
  {
   "cell_type": "code",
   "execution_count": 40,
   "metadata": {},
   "outputs": [],
   "source": [
    "my_list = str(output).split(\"\\\\n\")\n",
    "matching = [s for s in my_list if \"17\" in s]\n",
    "l1 = [k for k in my_list if 'kill' in k and '' in k]"
   ]
  },
  {
   "cell_type": "code",
   "execution_count": 51,
   "metadata": {},
   "outputs": [
    {
     "data": {
      "text/plain": [
       "'the fact of A. so acting without possessing proper skill and without any necessity for so acting, is '"
      ]
     },
     "execution_count": 51,
     "metadata": {},
     "output_type": "execute_result"
    }
   ],
   "source": [
    "l1[3]"
   ]
  },
  {
   "cell_type": "code",
   "execution_count": 52,
   "metadata": {},
   "outputs": [],
   "source": [
    "result = [i for i in my_list if i.startswith('Section')]"
   ]
  },
  {
   "cell_type": "code",
   "execution_count": 55,
   "metadata": {},
   "outputs": [],
   "source": [
    "N = 'for misconduct or disobedience to any lawful command.  '"
   ]
  },
  {
   "cell_type": "code",
   "execution_count": 57,
   "metadata": {},
   "outputs": [],
   "source": [
    "temp = my_list.index(N)"
   ]
  },
  {
   "cell_type": "code",
   "execution_count": 5,
   "metadata": {},
   "outputs": [
    {
     "data": {
      "text/plain": [
       "['Kwame', 'is', 'school', '22']"
      ]
     },
     "execution_count": 5,
     "metadata": {},
     "output_type": "execute_result"
    }
   ],
   "source": [
    "y = 'Kwame is school 22'\n",
    "pik = str(y).split(\" \")\n",
    "pik[]"
   ]
  },
  {
   "cell_type": "code",
   "execution_count": 7,
   "metadata": {},
   "outputs": [
    {
     "data": {
      "text/plain": [
       "['KWAME', 'IS', 'SCHOOL', '22']"
      ]
     },
     "execution_count": 7,
     "metadata": {},
     "output_type": "execute_result"
    }
   ],
   "source": [
    "for i in range(len(pik)):\n",
    "    pik[i] = pik[i].upper()\n",
    "pik"
   ]
  },
  {
   "cell_type": "code",
   "execution_count": 58,
   "metadata": {},
   "outputs": [
    {
     "data": {
      "text/plain": [
       "946"
      ]
     },
     "execution_count": 58,
     "metadata": {},
     "output_type": "execute_result"
    }
   ],
   "source": [
    "temp"
   ]
  },
  {
   "cell_type": "code",
   "execution_count": 59,
   "metadata": {},
   "outputs": [],
   "source": [
    "res = my_list[:temp]"
   ]
  },
  {
   "cell_type": "code",
   "execution_count": 60,
   "metadata": {},
   "outputs": [],
   "source": [
    "ric = [i for i in res if i.startswith('Section')]"
   ]
  },
  {
   "cell_type": "code",
   "execution_count": 61,
   "metadata": {},
   "outputs": [
    {
     "data": {
      "text/plain": [
       "['Section  ',\n",
       " 'Section 1 —Interpretation  ',\n",
       " 'Section 2 —Provisio ns Relating to a Company and its Officers.  ',\n",
       " 'Section 3 —Definition of Public Officer, Etc.  ',\n",
       " 'Section 4 —General Rules of Construct ion. ',\n",
       " 'Section 5 —Application of Part I  to other Offences.  ',\n",
       " 'Section 6 —Jurisdiction Over Territorial Waters  ',\n",
       " 'Section 7 —Acts done Partly Beyond the Jurisdiction.  ',\n",
       " \"Section 8 —Exclusion of Common Law.  ', 'No person shall be liable to punishment by the comm on law for any act.  \",\n",
       " 'Section 9 —Offences Under more than One Enactment.  ',\n",
       " 'Section 10 —Saving for Cont empt of Court.  ',\n",
       " 'Section 11 —Provisions Relating to Intent.  ',\n",
       " 'Section 12 —Provisions Relating to Negligence.  ',\n",
       " 'Section 13 —Provisions Relating to Causing an Event.  ',\n",
       " 'Section 14 —Provisions Relating to Consent.  ',\n",
       " 'Section 15 —Provisions Relating to Claim of Right.  ',\n",
       " 'Section 16—Provisions Relating to Fraud.  ',\n",
       " 'Section 17 —Provisions Relating to the Meaning and Use of Threats  ',\n",
       " 'Section 18 —Provisions Relating to Attempts to Com mit Crimes.  ',\n",
       " 'Section 19 —Preparation for Committing Certain Crimes.  ',\n",
       " 'Section 20 —Abetment of Crime and Trial and Punishmen t of Abettor.  ',\n",
       " 'Section 21 —Cases where One Crime is Abetted and a Different Crime is Committed.  ',\n",
       " 'Section 22 —Duty to Prev ent Felony.  ',\n",
       " 'Section 23 —Conspiracy.  ',\n",
       " 'Section 24 —Punishment for Conspiracy.  ',\n",
       " 'Section 25 —Harbouring Criminal.  ',\n",
       " 'Section 26 —When a Child is Incapable of Committing Crime.  ',\n",
       " 'Section 27 —When a n Insane Person is Entitled to Special Verdict.  ',\n",
       " 'Section 28 —Criminal Liability of Intoxicated Person . ',\n",
       " 'Section 29 —Ignorance or Mistake of Fact or of Law.  ',\n",
       " 'Section 30 —Justification for Force or Harm.  ',\n",
       " 'Section 31 —Grounds on which Force or Harm May be Justified.  ',\n",
       " 'Section 32 —General Limits of Justifiab le Force or Harm.  ',\n",
       " 'Section 33 —Use of Force by Authority of Enactment.  ',\n",
       " 'Section 34 —Use of Force in Execution of Sentence or Order of a Court.  ',\n",
       " 'Section 35 —Use of Force by Peace Officer, or by Judicial or Official Authority, for Preservation of ',\n",
       " 'Section 36 —Use of Force in Arrest, Detention, or Recaptu re of any Person According to Law.  ',\n",
       " \"Section 37 —Use of Force for Prevention of or Defence Against Crime, Etc.  ', 'For the prevention of, or for the defence of himself or any other person against any crime, or for the \",\n",
       " 'Section 38 —Unlawful Fights.  ',\n",
       " 'Section 39 —Use of Force for Defence of Property or Possession or Overcoming Obstruction of Legal ',\n",
       " 'Section 40 —Use of F orce for Preserving Order on Board a Vessel.  ',\n",
       " \"Section 41 —Use of Force in Correcting a Child, Servant, or Other Sim ilar Person for Misconduct.  ', 'A blow or other force, may be justified for the purpose of correction, as follows — \"]"
      ]
     },
     "execution_count": 61,
     "metadata": {},
     "output_type": "execute_result"
    }
   ],
   "source": [
    "ric"
   ]
  },
  {
   "cell_type": "code",
   "execution_count": 62,
   "metadata": {},
   "outputs": [
    {
     "data": {
      "text/plain": [
       "[\"Section 41 —Use of Force in Correcting a Child, Servant, or Other Sim ilar Person for Misconduct.  ', 'A blow or other force, may be justified for the purpose of correction, as follows — \"]"
      ]
     },
     "execution_count": 62,
     "metadata": {},
     "output_type": "execute_result"
    }
   ],
   "source": [
    "ric[-1:]"
   ]
  },
  {
   "cell_type": "code",
   "execution_count": null,
   "metadata": {},
   "outputs": [],
   "source": []
  }
 ],
 "metadata": {
  "kernelspec": {
   "display_name": "Python 3",
   "language": "python",
   "name": "python3"
  },
  "language_info": {
   "codemirror_mode": {
    "name": "ipython",
    "version": 3
   },
   "file_extension": ".py",
   "mimetype": "text/x-python",
   "name": "python",
   "nbconvert_exporter": "python",
   "pygments_lexer": "ipython3",
   "version": "3.7.3"
  },
  "vscode": {
   "interpreter": {
    "hash": "6efaaee0383d66c7952ce06cac7347ea641e2d8ad6c5370478819f9ed9faa7dc"
   }
  }
 },
 "nbformat": 4,
 "nbformat_minor": 4
}
